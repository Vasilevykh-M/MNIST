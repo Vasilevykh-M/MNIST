{
 "cells": [
  {
   "cell_type": "code",
   "execution_count": 1,
   "id": "1c25b224",
   "metadata": {
    "execution": {
     "iopub.execute_input": "2023-07-13T12:38:20.518751Z",
     "iopub.status.busy": "2023-07-13T12:38:20.518312Z",
     "iopub.status.idle": "2023-07-13T12:38:24.913314Z",
     "shell.execute_reply": "2023-07-13T12:38:24.912265Z"
    },
    "papermill": {
     "duration": 4.405838,
     "end_time": "2023-07-13T12:38:24.916032",
     "exception": false,
     "start_time": "2023-07-13T12:38:20.510194",
     "status": "completed"
    },
    "tags": []
   },
   "outputs": [],
   "source": [
    "import torch\n",
    "import torch.nn as nn\n",
    "import torchvision\n",
    "import torchvision.transforms as transforms\n",
    "from torch.utils.data import DataLoader\n",
    "import torch.nn.functional as F\n",
    "from torchinfo import summary\n",
    "import pandas as pd\n",
    "import numpy as np"
   ]
  },
  {
   "cell_type": "code",
   "execution_count": 2,
   "id": "470ac4bd",
   "metadata": {
    "execution": {
     "iopub.execute_input": "2023-07-13T12:38:24.931500Z",
     "iopub.status.busy": "2023-07-13T12:38:24.929621Z",
     "iopub.status.idle": "2023-07-13T12:38:25.030996Z",
     "shell.execute_reply": "2023-07-13T12:38:25.030034Z"
    },
    "papermill": {
     "duration": 0.110823,
     "end_time": "2023-07-13T12:38:25.033133",
     "exception": false,
     "start_time": "2023-07-13T12:38:24.922310",
     "status": "completed"
    },
    "tags": []
   },
   "outputs": [],
   "source": [
    "device = \"cuda\" if torch.cuda.is_available() else \"cpu\""
   ]
  },
  {
   "cell_type": "code",
   "execution_count": 3,
   "id": "250e65bb",
   "metadata": {
    "execution": {
     "iopub.execute_input": "2023-07-13T12:38:25.046209Z",
     "iopub.status.busy": "2023-07-13T12:38:25.045917Z",
     "iopub.status.idle": "2023-07-13T12:38:25.054111Z",
     "shell.execute_reply": "2023-07-13T12:38:25.053091Z"
    },
    "papermill": {
     "duration": 0.017585,
     "end_time": "2023-07-13T12:38:25.056764",
     "exception": false,
     "start_time": "2023-07-13T12:38:25.039179",
     "status": "completed"
    },
    "tags": []
   },
   "outputs": [],
   "source": [
    "from torch.utils.data import Dataset\n",
    "\n",
    "class MyDataset(Dataset):\n",
    "    def __init__(self, path):\n",
    "        df = pd.read_csv(path)\n",
    "        self.X = torch.tensor(df.loc[: ,df.columns != \"label\"].values.astype('float32'))\n",
    "        m = self.X.mean()\n",
    "        v = torch.sqrt(self.X.var())\n",
    "        self.X = (self.X - m) / v\n",
    "        self.X = self.X.view(self.X.size()[0], 1, 28, 28)\n",
    "        if \"label\" in df.columns:\n",
    "            self.y = torch.tensor(df[\"label\"].values)\n",
    "        else:\n",
    "            self.y = torch.zeros(self.X.size()[0])\n",
    "\n",
    "    def __len__(self):\n",
    "        return len(self.y)\n",
    "\n",
    "    def __getitem__(self, idx):\n",
    "        X = self.X[idx]\n",
    "        y = self.y[idx]\n",
    "        return (X, y)"
   ]
  },
  {
   "cell_type": "code",
   "execution_count": 4,
   "id": "29b06d7a",
   "metadata": {
    "execution": {
     "iopub.execute_input": "2023-07-13T12:38:25.068682Z",
     "iopub.status.busy": "2023-07-13T12:38:25.068396Z",
     "iopub.status.idle": "2023-07-13T12:38:32.014933Z",
     "shell.execute_reply": "2023-07-13T12:38:32.013902Z"
    },
    "papermill": {
     "duration": 6.955513,
     "end_time": "2023-07-13T12:38:32.017735",
     "exception": false,
     "start_time": "2023-07-13T12:38:25.062222",
     "status": "completed"
    },
    "tags": []
   },
   "outputs": [],
   "source": [
    "dataset_train = MyDataset(\"/kaggle/input/digit-recognizer/train.csv\")\n",
    "dataset_test = MyDataset(\"/kaggle/input/digit-recognizer/test.csv\")"
   ]
  },
  {
   "cell_type": "code",
   "execution_count": 5,
   "id": "89467a88",
   "metadata": {
    "execution": {
     "iopub.execute_input": "2023-07-13T12:38:32.030264Z",
     "iopub.status.busy": "2023-07-13T12:38:32.029972Z",
     "iopub.status.idle": "2023-07-13T12:38:32.043495Z",
     "shell.execute_reply": "2023-07-13T12:38:32.042667Z"
    },
    "papermill": {
     "duration": 0.022084,
     "end_time": "2023-07-13T12:38:32.045628",
     "exception": false,
     "start_time": "2023-07-13T12:38:32.023544",
     "status": "completed"
    },
    "tags": []
   },
   "outputs": [],
   "source": [
    "train_size = round(len(dataset_train) * 0.7)\n",
    "test_size = len(dataset_train) - train_size\n",
    "\n",
    "train_dataset, test_dataset = torch.utils.data.random_split(dataset_train, [train_size, test_size])\n",
    "\n",
    "train_dl = DataLoader(train_dataset, batch_size=64, shuffle=True) # shuffle = True !!!\n",
    "test_dl = DataLoader(test_dataset, batch_size=64, shuffle=False)"
   ]
  },
  {
   "cell_type": "code",
   "execution_count": 6,
   "id": "c439e29f",
   "metadata": {
    "execution": {
     "iopub.execute_input": "2023-07-13T12:38:32.057633Z",
     "iopub.status.busy": "2023-07-13T12:38:32.057348Z",
     "iopub.status.idle": "2023-07-13T12:38:32.071851Z",
     "shell.execute_reply": "2023-07-13T12:38:32.071005Z"
    },
    "papermill": {
     "duration": 0.022792,
     "end_time": "2023-07-13T12:38:32.073773",
     "exception": false,
     "start_time": "2023-07-13T12:38:32.050981",
     "status": "completed"
    },
    "tags": []
   },
   "outputs": [],
   "source": [
    "class ModelConvMNIST(nn.Module):\n",
    "  def __init__(self, input_chanel = 1, output_lables = 10):\n",
    "    super(ModelConvMNIST, self).__init__()\n",
    "    self.input_chanel = input_chanel\n",
    "    self.output_lables = output_lables\n",
    "    self.relu = nn.LeakyReLU(0.2)\n",
    "    self.dropout = nn.Dropout(0.3)\n",
    "    self.flatten = nn.Flatten()\n",
    "    self.max_pool = nn.MaxPool2d(2)\n",
    "    \n",
    "    self.conv1 = nn.Conv2d(1, 64, 3, 1, 1)\n",
    "    self.batch_norm1 = nn.BatchNorm2d(64)\n",
    "    \n",
    "    self.conv2 = nn.Conv2d(64, 128, 3)\n",
    "    self.batch_norm2 = nn.BatchNorm2d(128)\n",
    "    \n",
    "    self.conv3 = nn.Conv2d(128, 128, 3, 1, 1)\n",
    "    self.batch_norm3 = nn.BatchNorm2d(128)\n",
    "    \n",
    "    self.conv4 = nn.Conv2d(128, 256, 3)\n",
    "    self.batch_norm4 = nn.BatchNorm2d(256)\n",
    "    \n",
    "    self.conv5 = nn.Conv2d(256, 256, 3)\n",
    "    self.batch_norm5 = nn.BatchNorm2d(256)\n",
    "    \n",
    "    self.conv6 = nn.Conv2d(256, 512, 3)\n",
    "    self.batch_norm6 = nn.BatchNorm2d(512)\n",
    "\n",
    "    self.linear1 = nn.Linear(512, 1000)\n",
    "    self.linear2 = nn.Linear(1000, 10)\n",
    "    self.sigmoid = nn.Sigmoid()\n",
    "\n",
    "  def forward(self, input_image):\n",
    "    output = self.batch_norm1(self.relu(self.conv1(input_image)))\n",
    "    output = self.dropout(self.batch_norm2(self.max_pool(self.relu(self.conv2(output)))))\n",
    "    output = self.batch_norm3(self.relu(self.conv3(output)))\n",
    "    output = self.batch_norm4(self.max_pool(self.relu(self.conv4(output))))\n",
    "    output = self.dropout(self.batch_norm5(self.relu(self.conv5(output))))\n",
    "    output = self.batch_norm6(self.relu(self.conv6(output)))\n",
    "    output = self.relu(self.linear1(self.flatten(output)))\n",
    "    output = self.linear2(output)\n",
    "    return self.sigmoid(output)"
   ]
  },
  {
   "cell_type": "code",
   "execution_count": 7,
   "id": "b7efd1c4",
   "metadata": {
    "execution": {
     "iopub.execute_input": "2023-07-13T12:38:32.085794Z",
     "iopub.status.busy": "2023-07-13T12:38:32.085509Z",
     "iopub.status.idle": "2023-07-13T12:38:41.162448Z",
     "shell.execute_reply": "2023-07-13T12:38:41.161519Z"
    },
    "papermill": {
     "duration": 9.085231,
     "end_time": "2023-07-13T12:38:41.164614",
     "exception": false,
     "start_time": "2023-07-13T12:38:32.079383",
     "status": "completed"
    },
    "tags": []
   },
   "outputs": [
    {
     "data": {
      "text/plain": [
       "==========================================================================================\n",
       "Layer (type:depth-idx)                   Output Shape              Param #\n",
       "==========================================================================================\n",
       "ModelConvMNIST                           [64, 10]                  --\n",
       "├─Conv2d: 1-1                            [64, 64, 28, 28]          640\n",
       "├─LeakyReLU: 1-2                         [64, 64, 28, 28]          --\n",
       "├─BatchNorm2d: 1-3                       [64, 64, 28, 28]          128\n",
       "├─Conv2d: 1-4                            [64, 128, 26, 26]         73,856\n",
       "├─LeakyReLU: 1-5                         [64, 128, 26, 26]         --\n",
       "├─MaxPool2d: 1-6                         [64, 128, 13, 13]         --\n",
       "├─BatchNorm2d: 1-7                       [64, 128, 13, 13]         256\n",
       "├─Dropout: 1-8                           [64, 128, 13, 13]         --\n",
       "├─Conv2d: 1-9                            [64, 128, 13, 13]         147,584\n",
       "├─LeakyReLU: 1-10                        [64, 128, 13, 13]         --\n",
       "├─BatchNorm2d: 1-11                      [64, 128, 13, 13]         256\n",
       "├─Conv2d: 1-12                           [64, 256, 11, 11]         295,168\n",
       "├─LeakyReLU: 1-13                        [64, 256, 11, 11]         --\n",
       "├─MaxPool2d: 1-14                        [64, 256, 5, 5]           --\n",
       "├─BatchNorm2d: 1-15                      [64, 256, 5, 5]           512\n",
       "├─Conv2d: 1-16                           [64, 256, 3, 3]           590,080\n",
       "├─LeakyReLU: 1-17                        [64, 256, 3, 3]           --\n",
       "├─BatchNorm2d: 1-18                      [64, 256, 3, 3]           512\n",
       "├─Dropout: 1-19                          [64, 256, 3, 3]           --\n",
       "├─Conv2d: 1-20                           [64, 512, 1, 1]           1,180,160\n",
       "├─LeakyReLU: 1-21                        [64, 512, 1, 1]           --\n",
       "├─BatchNorm2d: 1-22                      [64, 512, 1, 1]           1,024\n",
       "├─Flatten: 1-23                          [64, 512]                 --\n",
       "├─Linear: 1-24                           [64, 1000]                513,000\n",
       "├─LeakyReLU: 1-25                        [64, 1000]                --\n",
       "├─Linear: 1-26                           [64, 10]                  10,010\n",
       "├─Sigmoid: 1-27                          [64, 10]                  --\n",
       "==========================================================================================\n",
       "Total params: 2,813,186\n",
       "Trainable params: 2,813,186\n",
       "Non-trainable params: 0\n",
       "Total mult-adds (G): 7.56\n",
       "==========================================================================================\n",
       "Input size (MB): 0.20\n",
       "Forward/backward pass size (MB): 151.45\n",
       "Params size (MB): 11.25\n",
       "Estimated Total Size (MB): 162.90\n",
       "=========================================================================================="
      ]
     },
     "execution_count": 7,
     "metadata": {},
     "output_type": "execute_result"
    }
   ],
   "source": [
    "model = ModelConvMNIST().to(device)\n",
    "BATCH_SIZE = 64\n",
    "summary(model, input_size=(BATCH_SIZE, 1, 28, 28))    "
   ]
  },
  {
   "cell_type": "code",
   "execution_count": 8,
   "id": "0c2d3c64",
   "metadata": {
    "execution": {
     "iopub.execute_input": "2023-07-13T12:38:41.178137Z",
     "iopub.status.busy": "2023-07-13T12:38:41.177515Z",
     "iopub.status.idle": "2023-07-13T12:38:41.187159Z",
     "shell.execute_reply": "2023-07-13T12:38:41.186299Z"
    },
    "papermill": {
     "duration": 0.01878,
     "end_time": "2023-07-13T12:38:41.189430",
     "exception": false,
     "start_time": "2023-07-13T12:38:41.170650",
     "status": "completed"
    },
    "tags": []
   },
   "outputs": [],
   "source": [
    "class ModelMNIST(nn.Module):\n",
    "  def __init__(self, input_chanel = 1, output_lables = 10):\n",
    "    super(ModelMNIST, self).__init__()\n",
    "    self.input_chanel = input_chanel\n",
    "    self.output_lables = output_lables\n",
    "    self.relu = nn.LeakyReLU(0.2)\n",
    "    self.dropout = nn.Dropout(0.3)\n",
    "    self.linear1 = nn.Linear(784, 1024)\n",
    "    self.batch_norm1 = nn.BatchNorm1d(1024)\n",
    "    self.linear2 = nn.Linear(1024, 2048)\n",
    "    self.batch_norm2 = nn.BatchNorm1d(2048)\n",
    "    self.linear3 = nn.Linear(2048, 512)\n",
    "    self.batch_norm3 = nn.BatchNorm1d(512)\n",
    "    self.linear4 = nn.Linear(512, 10)\n",
    "    self.sigmoid = nn.Sigmoid()\n",
    "\n",
    "  def forward(self, input_image):\n",
    "    input_image = input_image.view(-1, 784)\n",
    "    output = self.batch_norm1(self.relu(self.linear1(input_image)))\n",
    "    output = self.dropout(self.batch_norm2(self.relu(self.linear2(output))))\n",
    "    output = self.batch_norm3(self.relu(self.linear3(output)))\n",
    "    output = self.linear4(output)\n",
    "    return self.sigmoid(output)"
   ]
  },
  {
   "cell_type": "code",
   "execution_count": 9,
   "id": "bb7fdcf0",
   "metadata": {
    "execution": {
     "iopub.execute_input": "2023-07-13T12:38:41.202858Z",
     "iopub.status.busy": "2023-07-13T12:38:41.202214Z",
     "iopub.status.idle": "2023-07-13T12:38:41.245818Z",
     "shell.execute_reply": "2023-07-13T12:38:41.244953Z"
    },
    "papermill": {
     "duration": 0.05262,
     "end_time": "2023-07-13T12:38:41.247948",
     "exception": false,
     "start_time": "2023-07-13T12:38:41.195328",
     "status": "completed"
    },
    "tags": []
   },
   "outputs": [],
   "source": [
    "model = ModelMNIST().to(device)"
   ]
  },
  {
   "cell_type": "code",
   "execution_count": 10,
   "id": "391a8d5d",
   "metadata": {
    "execution": {
     "iopub.execute_input": "2023-07-13T12:38:41.260744Z",
     "iopub.status.busy": "2023-07-13T12:38:41.260281Z",
     "iopub.status.idle": "2023-07-13T12:38:41.264279Z",
     "shell.execute_reply": "2023-07-13T12:38:41.263362Z"
    },
    "papermill": {
     "duration": 0.01265,
     "end_time": "2023-07-13T12:38:41.266388",
     "exception": false,
     "start_time": "2023-07-13T12:38:41.253738",
     "status": "completed"
    },
    "tags": []
   },
   "outputs": [],
   "source": [
    "epochs = 20\n",
    "lr = 10e-6"
   ]
  },
  {
   "cell_type": "code",
   "execution_count": 11,
   "id": "f986b9ab",
   "metadata": {
    "execution": {
     "iopub.execute_input": "2023-07-13T12:38:41.278602Z",
     "iopub.status.busy": "2023-07-13T12:38:41.278323Z",
     "iopub.status.idle": "2023-07-13T12:38:41.282614Z",
     "shell.execute_reply": "2023-07-13T12:38:41.281755Z"
    },
    "papermill": {
     "duration": 0.012692,
     "end_time": "2023-07-13T12:38:41.284635",
     "exception": false,
     "start_time": "2023-07-13T12:38:41.271943",
     "status": "completed"
    },
    "tags": []
   },
   "outputs": [],
   "source": [
    "loss = nn.CrossEntropyLoss()\n",
    "optimizer = torch.optim.Adam(model.parameters(), lr=lr)"
   ]
  },
  {
   "cell_type": "code",
   "execution_count": 12,
   "id": "1769eb32",
   "metadata": {
    "execution": {
     "iopub.execute_input": "2023-07-13T12:38:41.297385Z",
     "iopub.status.busy": "2023-07-13T12:38:41.296653Z",
     "iopub.status.idle": "2023-07-13T12:39:51.828738Z",
     "shell.execute_reply": "2023-07-13T12:39:51.827704Z"
    },
    "papermill": {
     "duration": 70.541122,
     "end_time": "2023-07-13T12:39:51.831308",
     "exception": false,
     "start_time": "2023-07-13T12:38:41.290186",
     "status": "completed"
    },
    "tags": []
   },
   "outputs": [
    {
     "name": "stdout",
     "output_type": "stream",
     "text": [
      "epoch: 0 - train_loss: 2.30330 - train_acc: 0.15391 - val_loss: 2.30332 - val_acc: 0.15794\n",
      "epoch: 1 - train_loss: 1.80118 - train_acc: 0.88197 - val_loss: 1.80259 - val_acc: 0.88095\n",
      "epoch: 2 - train_loss: 1.75614 - train_acc: 0.88656 - val_loss: 1.75848 - val_acc: 0.88619\n",
      "epoch: 3 - train_loss: 1.72559 - train_acc: 0.88935 - val_loss: 1.72863 - val_acc: 0.88706\n",
      "epoch: 4 - train_loss: 1.69899 - train_acc: 0.89459 - val_loss: 1.70274 - val_acc: 0.89230\n",
      "epoch: 5 - train_loss: 1.67669 - train_acc: 0.89531 - val_loss: 1.68124 - val_acc: 0.89246\n",
      "epoch: 6 - train_loss: 1.65954 - train_acc: 0.90054 - val_loss: 1.66462 - val_acc: 0.89603\n",
      "epoch: 7 - train_loss: 1.64296 - train_acc: 0.90170 - val_loss: 1.64885 - val_acc: 0.89627\n",
      "epoch: 8 - train_loss: 1.62669 - train_acc: 0.90102 - val_loss: 1.63307 - val_acc: 0.89611\n",
      "epoch: 9 - train_loss: 1.61334 - train_acc: 0.90415 - val_loss: 1.62027 - val_acc: 0.89984\n",
      "epoch: 10 - train_loss: 1.60217 - train_acc: 0.90592 - val_loss: 1.60969 - val_acc: 0.89825\n",
      "epoch: 11 - train_loss: 1.59243 - train_acc: 0.89939 - val_loss: 1.60033 - val_acc: 0.89413\n",
      "epoch: 12 - train_loss: 1.58175 - train_acc: 0.89969 - val_loss: 1.59036 - val_acc: 0.89563\n",
      "epoch: 13 - train_loss: 1.57322 - train_acc: 0.90371 - val_loss: 1.58216 - val_acc: 0.89754\n",
      "epoch: 14 - train_loss: 1.56496 - train_acc: 0.90235 - val_loss: 1.57458 - val_acc: 0.89714\n",
      "epoch: 15 - train_loss: 1.55913 - train_acc: 0.90854 - val_loss: 1.56930 - val_acc: 0.90127\n",
      "epoch: 16 - train_loss: 1.55311 - train_acc: 0.90204 - val_loss: 1.56328 - val_acc: 0.89516\n",
      "epoch: 17 - train_loss: 1.54761 - train_acc: 0.90619 - val_loss: 1.55886 - val_acc: 0.89754\n",
      "epoch: 18 - train_loss: 1.54346 - train_acc: 0.90452 - val_loss: 1.55483 - val_acc: 0.89659\n",
      "epoch: 19 - train_loss: 1.53772 - train_acc: 0.90425 - val_loss: 1.54971 - val_acc: 0.89667\n"
     ]
    }
   ],
   "source": [
    "for epoch in range(epochs):\n",
    "    test_loss = 0\n",
    "    train_loss = 0\n",
    "    \n",
    "    train_correct = 0\n",
    "    val_correct = 0\n",
    "    \n",
    "    model.eval()\n",
    "    with torch.no_grad():\n",
    "        for i, (X, y) in enumerate(train_dl):\n",
    "            y_pred = model(X.to(device))\n",
    "            l = loss(y_pred, y.to(device))\n",
    "            train_loss += l.item() * len(y)\n",
    "            train_correct += (y_pred.argmax(dim=1) == y.to(device)).float().sum()\n",
    "            \n",
    "        for i, (X, y) in enumerate(test_dl):\n",
    "            y_pred = model(X.to(device))\n",
    "            l = loss(y_pred, y.to(device))\n",
    "            test_loss += l.item() * len(y)\n",
    "            val_correct += (y_pred.argmax(dim=1) == y.to(device)).float().sum()\n",
    "            \n",
    "        avg_train_loss = train_loss / len(train_dataset)\n",
    "        train_acc = train_correct / len(train_dataset)\n",
    "\n",
    "        avg_val_loss = test_loss / len(test_dataset)\n",
    "        val_acc = val_correct / len(test_dataset)\n",
    "\n",
    "        print(f'epoch: {epoch} - train_loss: {avg_train_loss:.5f} - train_acc: {train_acc:.5f} - val_loss: {avg_val_loss:.5f} - val_acc: {val_acc:.5f}')\n",
    "            \n",
    "        model.train()\n",
    "\n",
    "\n",
    "    for i, (X, y) in enumerate(train_dl):\n",
    "        y_pred = model(X.to(device))\n",
    "        l = loss(y_pred, y.to(device))\n",
    "        l.backward()\n",
    "\n",
    "        optimizer.step()\n",
    "        optimizer.zero_grad()"
   ]
  },
  {
   "cell_type": "code",
   "execution_count": 13,
   "id": "d2c45225",
   "metadata": {
    "execution": {
     "iopub.execute_input": "2023-07-13T12:39:51.849754Z",
     "iopub.status.busy": "2023-07-13T12:39:51.849402Z",
     "iopub.status.idle": "2023-07-13T12:39:51.854124Z",
     "shell.execute_reply": "2023-07-13T12:39:51.853102Z"
    },
    "papermill": {
     "duration": 0.016677,
     "end_time": "2023-07-13T12:39:51.856556",
     "exception": false,
     "start_time": "2023-07-13T12:39:51.839879",
     "status": "completed"
    },
    "tags": []
   },
   "outputs": [],
   "source": [
    "result_dl = DataLoader(dataset_test, batch_size=16, shuffle=False)"
   ]
  },
  {
   "cell_type": "code",
   "execution_count": 14,
   "id": "fac08895",
   "metadata": {
    "execution": {
     "iopub.execute_input": "2023-07-13T12:39:51.873249Z",
     "iopub.status.busy": "2023-07-13T12:39:51.872964Z",
     "iopub.status.idle": "2023-07-13T12:39:54.046388Z",
     "shell.execute_reply": "2023-07-13T12:39:54.045267Z"
    },
    "papermill": {
     "duration": 2.184431,
     "end_time": "2023-07-13T12:39:54.048756",
     "exception": false,
     "start_time": "2023-07-13T12:39:51.864325",
     "status": "completed"
    },
    "tags": []
   },
   "outputs": [],
   "source": [
    "Y = torch.tensor([])\n",
    "model.eval()\n",
    "for i, (X, _) in enumerate(result_dl):\n",
    "    y_pred = model(X.to(device)).cpu().detach()\n",
    "    Y = torch.cat((Y, y_pred), dim = 0)"
   ]
  },
  {
   "cell_type": "code",
   "execution_count": 15,
   "id": "1c6aec72",
   "metadata": {
    "execution": {
     "iopub.execute_input": "2023-07-13T12:39:54.065230Z",
     "iopub.status.busy": "2023-07-13T12:39:54.064889Z",
     "iopub.status.idle": "2023-07-13T12:39:54.073144Z",
     "shell.execute_reply": "2023-07-13T12:39:54.072246Z"
    },
    "papermill": {
     "duration": 0.018795,
     "end_time": "2023-07-13T12:39:54.075230",
     "exception": false,
     "start_time": "2023-07-13T12:39:54.056435",
     "status": "completed"
    },
    "tags": []
   },
   "outputs": [],
   "source": [
    "Y = Y.argmax(dim=1).numpy()"
   ]
  },
  {
   "cell_type": "code",
   "execution_count": 16,
   "id": "a4aab55b",
   "metadata": {
    "execution": {
     "iopub.execute_input": "2023-07-13T12:39:54.091408Z",
     "iopub.status.busy": "2023-07-13T12:39:54.091092Z",
     "iopub.status.idle": "2023-07-13T12:39:54.111239Z",
     "shell.execute_reply": "2023-07-13T12:39:54.110334Z"
    },
    "papermill": {
     "duration": 0.03054,
     "end_time": "2023-07-13T12:39:54.113390",
     "exception": false,
     "start_time": "2023-07-13T12:39:54.082850",
     "status": "completed"
    },
    "tags": []
   },
   "outputs": [],
   "source": [
    "df = pd.read_csv(\"/kaggle/input/digit-recognizer/sample_submission.csv\")"
   ]
  },
  {
   "cell_type": "code",
   "execution_count": 17,
   "id": "ecf4182f",
   "metadata": {
    "execution": {
     "iopub.execute_input": "2023-07-13T12:39:54.129135Z",
     "iopub.status.busy": "2023-07-13T12:39:54.128854Z",
     "iopub.status.idle": "2023-07-13T12:39:54.134393Z",
     "shell.execute_reply": "2023-07-13T12:39:54.133541Z"
    },
    "papermill": {
     "duration": 0.015965,
     "end_time": "2023-07-13T12:39:54.136515",
     "exception": false,
     "start_time": "2023-07-13T12:39:54.120550",
     "status": "completed"
    },
    "tags": []
   },
   "outputs": [],
   "source": [
    "df[\"Label\"] = Y"
   ]
  },
  {
   "cell_type": "code",
   "execution_count": 18,
   "id": "da29d342",
   "metadata": {
    "execution": {
     "iopub.execute_input": "2023-07-13T12:39:54.152233Z",
     "iopub.status.busy": "2023-07-13T12:39:54.151971Z",
     "iopub.status.idle": "2023-07-13T12:39:54.165739Z",
     "shell.execute_reply": "2023-07-13T12:39:54.164728Z"
    },
    "papermill": {
     "duration": 0.023986,
     "end_time": "2023-07-13T12:39:54.167743",
     "exception": false,
     "start_time": "2023-07-13T12:39:54.143757",
     "status": "completed"
    },
    "tags": []
   },
   "outputs": [
    {
     "data": {
      "text/html": [
       "<div>\n",
       "<style scoped>\n",
       "    .dataframe tbody tr th:only-of-type {\n",
       "        vertical-align: middle;\n",
       "    }\n",
       "\n",
       "    .dataframe tbody tr th {\n",
       "        vertical-align: top;\n",
       "    }\n",
       "\n",
       "    .dataframe thead th {\n",
       "        text-align: right;\n",
       "    }\n",
       "</style>\n",
       "<table border=\"1\" class=\"dataframe\">\n",
       "  <thead>\n",
       "    <tr style=\"text-align: right;\">\n",
       "      <th></th>\n",
       "      <th>ImageId</th>\n",
       "      <th>Label</th>\n",
       "    </tr>\n",
       "  </thead>\n",
       "  <tbody>\n",
       "    <tr>\n",
       "      <th>0</th>\n",
       "      <td>1</td>\n",
       "      <td>2</td>\n",
       "    </tr>\n",
       "    <tr>\n",
       "      <th>1</th>\n",
       "      <td>2</td>\n",
       "      <td>0</td>\n",
       "    </tr>\n",
       "    <tr>\n",
       "      <th>2</th>\n",
       "      <td>3</td>\n",
       "      <td>9</td>\n",
       "    </tr>\n",
       "    <tr>\n",
       "      <th>3</th>\n",
       "      <td>4</td>\n",
       "      <td>4</td>\n",
       "    </tr>\n",
       "    <tr>\n",
       "      <th>4</th>\n",
       "      <td>5</td>\n",
       "      <td>3</td>\n",
       "    </tr>\n",
       "    <tr>\n",
       "      <th>...</th>\n",
       "      <td>...</td>\n",
       "      <td>...</td>\n",
       "    </tr>\n",
       "    <tr>\n",
       "      <th>27995</th>\n",
       "      <td>27996</td>\n",
       "      <td>9</td>\n",
       "    </tr>\n",
       "    <tr>\n",
       "      <th>27996</th>\n",
       "      <td>27997</td>\n",
       "      <td>7</td>\n",
       "    </tr>\n",
       "    <tr>\n",
       "      <th>27997</th>\n",
       "      <td>27998</td>\n",
       "      <td>3</td>\n",
       "    </tr>\n",
       "    <tr>\n",
       "      <th>27998</th>\n",
       "      <td>27999</td>\n",
       "      <td>4</td>\n",
       "    </tr>\n",
       "    <tr>\n",
       "      <th>27999</th>\n",
       "      <td>28000</td>\n",
       "      <td>2</td>\n",
       "    </tr>\n",
       "  </tbody>\n",
       "</table>\n",
       "<p>28000 rows × 2 columns</p>\n",
       "</div>"
      ],
      "text/plain": [
       "       ImageId  Label\n",
       "0            1      2\n",
       "1            2      0\n",
       "2            3      9\n",
       "3            4      4\n",
       "4            5      3\n",
       "...        ...    ...\n",
       "27995    27996      9\n",
       "27996    27997      7\n",
       "27997    27998      3\n",
       "27998    27999      4\n",
       "27999    28000      2\n",
       "\n",
       "[28000 rows x 2 columns]"
      ]
     },
     "execution_count": 18,
     "metadata": {},
     "output_type": "execute_result"
    }
   ],
   "source": [
    "df"
   ]
  },
  {
   "cell_type": "code",
   "execution_count": 19,
   "id": "7eec5a6e",
   "metadata": {
    "execution": {
     "iopub.execute_input": "2023-07-13T12:39:54.184519Z",
     "iopub.status.busy": "2023-07-13T12:39:54.183486Z",
     "iopub.status.idle": "2023-07-13T12:39:54.248888Z",
     "shell.execute_reply": "2023-07-13T12:39:54.247894Z"
    },
    "papermill": {
     "duration": 0.076094,
     "end_time": "2023-07-13T12:39:54.251439",
     "exception": false,
     "start_time": "2023-07-13T12:39:54.175345",
     "status": "completed"
    },
    "tags": []
   },
   "outputs": [],
   "source": [
    "df.to_csv(\"result_MNIST_5.csv\", index=False)"
   ]
  }
 ],
 "metadata": {
  "kernelspec": {
   "display_name": "Python 3",
   "language": "python",
   "name": "python3"
  },
  "language_info": {
   "codemirror_mode": {
    "name": "ipython",
    "version": 3
   },
   "file_extension": ".py",
   "mimetype": "text/x-python",
   "name": "python",
   "nbconvert_exporter": "python",
   "pygments_lexer": "ipython3",
   "version": "3.10.12"
  },
  "papermill": {
   "default_parameters": {},
   "duration": 106.999715,
   "end_time": "2023-07-13T12:39:56.763739",
   "environment_variables": {},
   "exception": null,
   "input_path": "__notebook__.ipynb",
   "output_path": "__notebook__.ipynb",
   "parameters": {},
   "start_time": "2023-07-13T12:38:09.764024",
   "version": "2.4.0"
  }
 },
 "nbformat": 4,
 "nbformat_minor": 5
}
